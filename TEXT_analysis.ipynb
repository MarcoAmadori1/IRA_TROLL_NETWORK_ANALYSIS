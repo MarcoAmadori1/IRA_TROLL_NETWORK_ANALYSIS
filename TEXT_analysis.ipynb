{
 "cells": [
  {
   "cell_type": "markdown",
   "id": "7645735f",
   "metadata": {},
   "source": [
    "# This dataset clean the corpus of each tweet for LDA preparation"
   ]
  },
  {
   "cell_type": "code",
   "execution_count": 1,
   "id": "b80b8553",
   "metadata": {},
   "outputs": [],
   "source": [
    "# Importing libraries\n",
    "import pandas as pd\n",
    "import numpy as np\n",
    "import matplotlib.pyplot as plt\n",
    "import re\n",
    "import string\n",
    "import nltk\n",
    "import wordcloud\n",
    "from nltk.stem import WordNetLemmatizer"
   ]
  },
  {
   "cell_type": "markdown",
   "id": "015651b4",
   "metadata": {},
   "source": [
    "## Loading the whole dataset with mentions\n",
    "In this case we are interested to extract hashtags and do topic modelling to extract topics"
   ]
  },
  {
   "cell_type": "code",
   "execution_count": 42,
   "id": "7c8b6b6b",
   "metadata": {},
   "outputs": [],
   "source": [
    "troll= pd.read_csv(\"english_lang_troll_hash.csv\")\n"
   ]
  },
  {
   "cell_type": "code",
   "execution_count": 43,
   "id": "251cebb1",
   "metadata": {},
   "outputs": [
    {
     "data": {
      "text/plain": [
       "hashtags            447\n",
       "mentions            209\n",
       "region               21\n",
       "content               1\n",
       "Unnamed: 0            0\n",
       "author                0\n",
       "language              0\n",
       "publish_date          0\n",
       "followers             0\n",
       "retweet               0\n",
       "account_category      0\n",
       "year                  0\n",
       "dtype: int64"
      ]
     },
     "execution_count": 43,
     "metadata": {},
     "output_type": "execute_result"
    }
   ],
   "source": [
    "troll.isnull().sum().sort_values(ascending = False)"
   ]
  },
  {
   "cell_type": "code",
   "execution_count": 44,
   "id": "33d9f510",
   "metadata": {},
   "outputs": [],
   "source": [
    "# drop NAs in the text column and update the troll dataframe\n",
    "troll.dropna(subset = ['content'], inplace = True)"
   ]
  },
  {
   "cell_type": "code",
   "execution_count": 46,
   "id": "0df12b17",
   "metadata": {},
   "outputs": [
    {
     "data": {
      "text/plain": [
       "0    .@POTUS and @FLOTUS meet with storm survivors ...\n",
       "1    .@POTUS and @FLOTUS meet with storm survivors ...\n",
       "2    Please follow @10_gop and ReTweet this request...\n",
       "3    Please follow @10_gop and ReTweet this request...\n",
       "4    Please follow @10_gop and ReTweet this request...\n",
       "5    A heavy police presence can be seen at #Berkel...\n",
       "6    '@realDonaldTrump Donald Trump's amazing golf ...\n",
       "7    Hi @brianstelter, remember when you said Trump...\n",
       "8    '@realDonaldTrump I'm very proud of the way yo...\n",
       "9    '@realDonaldTrump Thank you for everything you...\n",
       "Name: content, dtype: object"
      ]
     },
     "execution_count": 46,
     "metadata": {},
     "output_type": "execute_result"
    }
   ],
   "source": [
    "troll['content'].head(10)"
   ]
  },
  {
   "cell_type": "markdown",
   "id": "cc433a2d",
   "metadata": {},
   "source": [
    "## Text cleaning "
   ]
  },
  {
   "cell_type": "code",
   "execution_count": 47,
   "id": "3b6fa02a",
   "metadata": {},
   "outputs": [
    {
     "data": {
      "text/plain": [
       "0    .@POTUS and @FLOTUS meet with storm survivors ...\n",
       "1    .@POTUS and @FLOTUS meet with storm survivors ...\n",
       "2    Please follow @10_gop and ReTweet this request...\n",
       "3    Please follow @10_gop and ReTweet this request...\n",
       "4    Please follow @10_gop and ReTweet this request...\n",
       "5    A heavy police presence can be seen at #Berkel...\n",
       "6    '@realDonaldTrump Donald Trump's amazing golf ...\n",
       "7    Hi @brianstelter, remember when you said Trump...\n",
       "8    '@realDonaldTrump I'm very proud of the way yo...\n",
       "9    '@realDonaldTrump Thank you for everything you...\n",
       "Name: content, dtype: object"
      ]
     },
     "execution_count": 47,
     "metadata": {},
     "output_type": "execute_result"
    }
   ],
   "source": [
    "# define a function that takes in a tweet and throws out the text without the RT.\n",
    "def remove_retweet(tweet):\n",
    "    text_only = []\n",
    "    if len(re.findall(\"^RT.*?:(.*)\", tweet)) > 0:\n",
    "        text_only.append(re.findall(\"^RT.*?:(.*)\", tweet)[0])\n",
    "    else:\n",
    "        text_only.append(tweet)\n",
    "    return text_only[0]\n",
    "\n",
    "# extract texts and place in a list\n",
    "text_only = troll['content'].map(remove_retweet)\n",
    "text_only.head(10)"
   ]
  },
  {
   "cell_type": "code",
   "execution_count": 48,
   "id": "b94db00a",
   "metadata": {},
   "outputs": [
    {
     "data": {
      "text/plain": [
       "0    .@POTUS and @FLOTUS meet with storm survivors ...\n",
       "1    .@POTUS and @FLOTUS meet with storm survivors ...\n",
       "2    Please follow @10_gop and ReTweet this request...\n",
       "3    Please follow @10_gop and ReTweet this request...\n",
       "4    Please follow @10_gop and ReTweet this request...\n",
       "5    A heavy police presence can be seen at #Berkel...\n",
       "6    '@realDonaldTrump Donald Trump's amazing golf ...\n",
       "7    Hi @brianstelter, remember when you said Trump...\n",
       "8    '@realDonaldTrump I'm very proud of the way yo...\n",
       "9    '@realDonaldTrump Thank you for everything you...\n",
       "Name: content, dtype: object"
      ]
     },
     "execution_count": 48,
     "metadata": {},
     "output_type": "execute_result"
    }
   ],
   "source": [
    "# this method checks for links and removes these from the tweet provided!\n",
    "def remove_links(tweet):\n",
    "    '''Provide a tweet and remove the links from it'''\n",
    "    text_only = []\n",
    "    if len(re.findall(\"(https://[^\\s]+)\", tweet)) > 0:\n",
    "        tweet = re.sub(\"(https://[^\\s]+)\", \"\", tweet)\n",
    "    if len(re.findall(\"(http://[^\\s]+)\", tweet)) > 0:\n",
    "        tweet = re.sub(\"(http://[^\\s]+)\", \"\", tweet)    \n",
    "    text_only.append(tweet)\n",
    "    return text_only[0]\n",
    "\n",
    "text_no_links = text_only.map(remove_links)\n",
    "text_no_links.head(10)"
   ]
  },
  {
   "cell_type": "code",
   "execution_count": 49,
   "id": "01a4ce8c",
   "metadata": {},
   "outputs": [
    {
     "data": {
      "text/plain": [
       "0    .@POTUS and @FLOTUS meet with storm survivors ...\n",
       "1    .@POTUS and @FLOTUS meet with storm survivors ...\n",
       "2    Please follow @10_gop and ReTweet this request...\n",
       "3    Please follow @10_gop and ReTweet this request...\n",
       "4    Please follow @10_gop and ReTweet this request...\n",
       "5    A heavy police presence can be seen at  ahead ...\n",
       "6    '@realDonaldTrump Donald Trump's amazing golf ...\n",
       "7    Hi @brianstelter, remember when you said Trump...\n",
       "8    '@realDonaldTrump I'm very proud of the way yo...\n",
       "9    '@realDonaldTrump Thank you for everything you...\n",
       "Name: content, dtype: object"
      ]
     },
     "execution_count": 49,
     "metadata": {},
     "output_type": "execute_result"
    }
   ],
   "source": [
    "def remove_hashtags(tweet):\n",
    "    '''Provide a tweet and remove hashtags from it'''\n",
    "    hashtags_only = []\n",
    "    if len(re.findall(\"(#[^#\\s]+)\", tweet)) > 0:\n",
    "        tweet = re.sub(\"(#[^#\\s]+)\", \"\", tweet) \n",
    "    hashtags_only.append(tweet)\n",
    "    return hashtags_only[0]\n",
    "\n",
    "text_all_removed = text_no_links.map(remove_hashtags)\n",
    "text_all_removed.head(10)"
   ]
  },
  {
   "cell_type": "code",
   "execution_count": 50,
   "id": "c0950e48",
   "metadata": {},
   "outputs": [
    {
     "data": {
      "text/plain": [
       "0    @POTUS and @FLOTUS meet with storm survivors a...\n",
       "1    @POTUS and @FLOTUS meet with storm survivors a...\n",
       "2    Please follow @10_gop and ReTweet this request...\n",
       "3    Please follow @10_gop and ReTweet this request...\n",
       "4    Please follow @10_gop and ReTweet this request...\n",
       "5    A heavy police presence can be seen at  ahead ...\n",
       "6    '@realDonaldTrump Donald Trump's amazing golf ...\n",
       "7    Hi @brianstelter, remember when you said Trump...\n",
       "8    '@realDonaldTrump I'm very proud of the way yo...\n",
       "9    '@realDonaldTrump Thank you for everything you...\n",
       "Name: content, dtype: object"
      ]
     },
     "execution_count": 50,
     "metadata": {},
     "output_type": "execute_result"
    }
   ],
   "source": [
    "def remove_extraneous(tweet):\n",
    "    '''Given a text, remove unnecessary characters from the beginning and the end'''\n",
    "    tweet = tweet.rstrip()\n",
    "    tweet = tweet.lstrip()\n",
    "    tweet = tweet.rstrip(\")\")\n",
    "    tweet = tweet.lstrip(\"(\")\n",
    "    tweet = re.sub(\"\\.\", \"\", tweet)\n",
    "    return tweet\n",
    "\n",
    "text_clean = text_all_removed.map(remove_extraneous)\n",
    "text_clean.head(10)"
   ]
  },
  {
   "cell_type": "code",
   "execution_count": 51,
   "id": "511d482e",
   "metadata": {},
   "outputs": [
    {
     "data": {
      "text/plain": [
       "0     and  meet with storm survivors and pass out s...\n",
       "1     and  meet with storm survivors and pass out s...\n",
       "2    Please follow  and ReTweet this request We can...\n",
       "3    Please follow  and ReTweet this request We can...\n",
       "4    Please follow  and ReTweet this request We can...\n",
       "Name: content, dtype: object"
      ]
     },
     "execution_count": 51,
     "metadata": {},
     "output_type": "execute_result"
    }
   ],
   "source": [
    "# Now lets remove the mentions from the tweet text\n",
    "def remove_mentions(tweet):\n",
    "    '''Given a text, remove the user mentions'''\n",
    "    mentions = []\n",
    "    if len(re.findall('@[^\\s@]+', tweet))>0:\n",
    "        tweet = re.sub('@[^\\s@]+', \"\" , tweet)\n",
    "        mentions.append(tweet)\n",
    "    else:\n",
    "        mentions.append(tweet)\n",
    "    return mentions[0]\n",
    "\n",
    "text_clean_final = text_clean.map(remove_mentions)\n",
    "text_clean_final.head()"
   ]
  },
  {
   "cell_type": "code",
   "execution_count": 52,
   "id": "2c9d9c32",
   "metadata": {},
   "outputs": [
    {
     "data": {
      "text/plain": [
       "0     and  meet with storm survivors and pass out s...\n",
       "1     and  meet with storm survivors and pass out s...\n",
       "2    Please follow  and ReTweet this request We can...\n",
       "3    Please follow  and ReTweet this request We can...\n",
       "4    Please follow  and ReTweet this request We can...\n",
       "Name: content, dtype: object"
      ]
     },
     "execution_count": 52,
     "metadata": {},
     "output_type": "execute_result"
    }
   ],
   "source": [
    "#remove punctuation from text final clean\n",
    "def remove_punctuation(tweet):\n",
    "    '''Given a text, remove the punctuation'''\n",
    "    punctuation_only = []\n",
    "    if len(re.findall(\"[^\\w\\s]\", tweet)) > 0:\n",
    "        tweet = re.sub(\"[^\\w\\s]\", \"\", tweet)\n",
    "        punctuation_only.append(tweet)\n",
    "    else:\n",
    "        punctuation_only.append(tweet)\n",
    "    return punctuation_only[0]\n",
    "text_clean_final = text_clean_final.map(remove_punctuation)\n",
    "text_clean_final.head()"
   ]
  },
  {
   "cell_type": "code",
   "execution_count": 53,
   "id": "f7ecfd1f",
   "metadata": {},
   "outputs": [
    {
     "data": {
      "text/plain": [
       "0     and  meet with storm survivors and pass out s...\n",
       "1     and  meet with storm survivors and pass out s...\n",
       "2    please follow  and retweet this request we can...\n",
       "3    please follow  and retweet this request we can...\n",
       "4    please follow  and retweet this request we can...\n",
       "Name: content, dtype: object"
      ]
     },
     "execution_count": 53,
     "metadata": {},
     "output_type": "execute_result"
    }
   ],
   "source": [
    "#to lowercase\n",
    "text_clean_final = text_clean_final.apply(lambda x: x.lower())\n",
    "text_clean_final.head()"
   ]
  },
  {
   "cell_type": "code",
   "execution_count": 54,
   "id": "e9853c3c",
   "metadata": {},
   "outputs": [
    {
     "name": "stderr",
     "output_type": "stream",
     "text": [
      "[nltk_data] Downloading package stopwords to\n",
      "[nltk_data]     C:\\Users\\miro\\AppData\\Roaming\\nltk_data...\n",
      "[nltk_data]   Package stopwords is already up-to-date!\n"
     ]
    }
   ],
   "source": [
    "nltk.download('stopwords')\n",
    "stopwords = nltk.corpus.stopwords.words('english')\n",
    "\n"
   ]
  },
  {
   "cell_type": "code",
   "execution_count": 55,
   "id": "83d2b277",
   "metadata": {},
   "outputs": [
    {
     "name": "stderr",
     "output_type": "stream",
     "text": [
      "[nltk_data] Downloading package stopwords to\n",
      "[nltk_data]     C:\\Users\\miro\\AppData\\Roaming\\nltk_data...\n",
      "[nltk_data]   Package stopwords is already up-to-date!\n"
     ]
    },
    {
     "data": {
      "text/plain": [
       "0    meet storm survivors pass supplies church puer...\n",
       "1    meet storm survivors pass supplies church puer...\n",
       "2    please follow retweet request allow voices sil...\n",
       "3    please follow retweet request allow voices sil...\n",
       "4    please follow retweet request allow voices sil...\n",
       "Name: content, dtype: object"
      ]
     },
     "execution_count": 55,
     "metadata": {},
     "output_type": "execute_result"
    }
   ],
   "source": [
    "import nltk\n",
    "nltk.download('stopwords')\n",
    "from nltk.corpus import stopwords\n",
    "\n",
    "stop_words = stopwords.words('english')\n",
    "text_clean_final = text_clean_final.apply(lambda x: ' '.join([word for word in x.split() if word not in (stop_words)]))\n",
    "text_clean_final.head()"
   ]
  },
  {
   "cell_type": "code",
   "execution_count": 56,
   "id": "498e6888",
   "metadata": {},
   "outputs": [],
   "source": [
    "troll=troll.astype(str).apply(lambda x: x.str.encode('ascii', 'ignore').str.decode('ascii')) #remove emojis"
   ]
  },
  {
   "cell_type": "code",
   "execution_count": 57,
   "id": "791132ab",
   "metadata": {},
   "outputs": [
    {
     "data": {
      "text/plain": [
       "English    385093\n",
       "Name: language, dtype: int64"
      ]
     },
     "execution_count": 57,
     "metadata": {},
     "output_type": "execute_result"
    }
   ],
   "source": [
    "troll[\"language\"].value_counts()"
   ]
  },
  {
   "cell_type": "code",
   "execution_count": 58,
   "id": "2b4a20e0",
   "metadata": {},
   "outputs": [],
   "source": [
    "troll[\"cleaned\"]=text_clean_final #assigning the cleaned text to the troll dataframe"
   ]
  },
  {
   "cell_type": "code",
   "execution_count": 89,
   "id": "71bd3e08",
   "metadata": {},
   "outputs": [],
   "source": [
    "#drop na from troll\n",
    "troll.dropna(inplace=True)"
   ]
  },
  {
   "cell_type": "code",
   "execution_count": 59,
   "id": "fe9ecaf6",
   "metadata": {},
   "outputs": [],
   "source": [
    "troll.to_csv(\"clean_text_edges.csv\")"
   ]
  },
  {
   "cell_type": "markdown",
   "id": "ff8fbc45",
   "metadata": {},
   "source": [
    "## LDA\n",
    "LDA was done using Knime that helped us to speed up the process, making faster elaboration. \n",
    "We chose 15 topics with 20 words for each topic. The algorithm was run for 1000 iterations\n",
    "\n"
   ]
  },
  {
   "cell_type": "code",
   "execution_count": 11,
   "id": "a6ed2eeb",
   "metadata": {},
   "outputs": [
    {
     "data": {
      "image/png": "[encoded data removed]",
      "text/plain": [
       "<IPython.core.display.Image object>"
      ]
     },
     "execution_count": 11,
     "metadata": {},
     "output_type": "execute_result"
    }
   ],
   "source": [
    "from IPython.display import Image\n",
    "Image(filename='knime workflow.png')"
   ]
  },
  {
   "cell_type": "markdown",
   "id": "fa11cc28",
   "metadata": {},
   "source": [
    "# Using a smaller dataset from NBC"
   ]
  },
  {
   "cell_type": "code",
   "execution_count": 6,
   "id": "191ea638",
   "metadata": {},
   "outputs": [],
   "source": [
    "IRA=pd.read_csv(\"edge_list_nbc.csv\")"
   ]
  },
  {
   "cell_type": "code",
   "execution_count": 98,
   "id": "1fd9d455",
   "metadata": {},
   "outputs": [
    {
     "data": {
      "text/html": [
       "<div>\n",
       "<style scoped>\n",
       "    .dataframe tbody tr th:only-of-type {\n",
       "        vertical-align: middle;\n",
       "    }\n",
       "\n",
       "    .dataframe tbody tr th {\n",
       "        vertical-align: top;\n",
       "    }\n",
       "\n",
       "    .dataframe thead th {\n",
       "        text-align: right;\n",
       "    }\n",
       "</style>\n",
       "<table border=\"1\" class=\"dataframe\">\n",
       "  <thead>\n",
       "    <tr style=\"text-align: right;\">\n",
       "      <th></th>\n",
       "      <th>Source</th>\n",
       "      <th>created_str</th>\n",
       "      <th>text</th>\n",
       "      <th>hashtags</th>\n",
       "      <th>Target</th>\n",
       "      <th>account_category</th>\n",
       "      <th>followers</th>\n",
       "      <th>region</th>\n",
       "      <th>language</th>\n",
       "    </tr>\n",
       "  </thead>\n",
       "  <tbody>\n",
       "    <tr>\n",
       "      <th>0</th>\n",
       "      <td>traceyhappymom</td>\n",
       "      <td>15/08/2016 14:50</td>\n",
       "      <td>RT @mc_derpin: #TheOlderWeGet the more pessimi...</td>\n",
       "      <td>[\"TheOlderWeGet\"]</td>\n",
       "      <td>mc_derpin</td>\n",
       "      <td>HashtagGamer</td>\n",
       "      <td>5168.0</td>\n",
       "      <td>United States</td>\n",
       "      <td>English</td>\n",
       "    </tr>\n",
       "    <tr>\n",
       "      <th>1</th>\n",
       "      <td>evewebster373</td>\n",
       "      <td>30/06/2015 21:56</td>\n",
       "      <td>RT @dmataconis: Ready To Feel Like A Failure? ...</td>\n",
       "      <td>[]</td>\n",
       "      <td>dmataconis</td>\n",
       "      <td>RightTroll</td>\n",
       "      <td>732.0</td>\n",
       "      <td>United States</td>\n",
       "      <td>English</td>\n",
       "    </tr>\n",
       "    <tr>\n",
       "      <th>2</th>\n",
       "      <td>jacquelinisbest</td>\n",
       "      <td>18/09/2016 19:46</td>\n",
       "      <td>RT @NahBabyNah: Twitchy: Chuck Todd caught out...</td>\n",
       "      <td>[\"WakeUpAmerica\"]</td>\n",
       "      <td>NahBabyNah</td>\n",
       "      <td>RightTroll</td>\n",
       "      <td>2166.0</td>\n",
       "      <td>United States</td>\n",
       "      <td>English</td>\n",
       "    </tr>\n",
       "    <tr>\n",
       "      <th>3</th>\n",
       "      <td>judelambertusa</td>\n",
       "      <td>07/04/2016 11:37</td>\n",
       "      <td>RT @mcicero10: #BernieSanders #Trump people sh...</td>\n",
       "      <td>[\"BernieSanders\"]</td>\n",
       "      <td>mcicero10</td>\n",
       "      <td>RightTroll</td>\n",
       "      <td>1833.0</td>\n",
       "      <td>United States</td>\n",
       "      <td>English</td>\n",
       "    </tr>\n",
       "    <tr>\n",
       "      <th>4</th>\n",
       "      <td>carriethornthon</td>\n",
       "      <td>10/10/2016 21:04</td>\n",
       "      <td>RT @ItsJustJaynie: @HillaryClinton The undecid...</td>\n",
       "      <td>[]</td>\n",
       "      <td>ItsJustJaynie</td>\n",
       "      <td>RightTroll</td>\n",
       "      <td>2388.0</td>\n",
       "      <td>United States</td>\n",
       "      <td>English</td>\n",
       "    </tr>\n",
       "    <tr>\n",
       "      <th>...</th>\n",
       "      <td>...</td>\n",
       "      <td>...</td>\n",
       "      <td>...</td>\n",
       "      <td>...</td>\n",
       "      <td>...</td>\n",
       "      <td>...</td>\n",
       "      <td>...</td>\n",
       "      <td>...</td>\n",
       "      <td>...</td>\n",
       "    </tr>\n",
       "    <tr>\n",
       "      <th>154793</th>\n",
       "      <td>rh0lbr00k</td>\n",
       "      <td>17/09/2016 21:46</td>\n",
       "      <td>RT @eavesdropann: 😂😂😂😳😂😂😂😂 https://t.co/gI6uth...</td>\n",
       "      <td>[]</td>\n",
       "      <td>eavesdropann</td>\n",
       "      <td>RightTroll</td>\n",
       "      <td>2020.0</td>\n",
       "      <td>United States</td>\n",
       "      <td>English</td>\n",
       "    </tr>\n",
       "    <tr>\n",
       "      <th>154794</th>\n",
       "      <td>malloryjared</td>\n",
       "      <td>19/07/2016 14:49</td>\n",
       "      <td>RT @USATODAY: This $700 Asus beats a $1,300 Ma...</td>\n",
       "      <td>[]</td>\n",
       "      <td>USATODAY</td>\n",
       "      <td>LeftTroll</td>\n",
       "      <td>845.0</td>\n",
       "      <td>United States</td>\n",
       "      <td>English</td>\n",
       "    </tr>\n",
       "    <tr>\n",
       "      <th>154795</th>\n",
       "      <td>cookncooks</td>\n",
       "      <td>03/12/2016 03:16</td>\n",
       "      <td>RT @FairyTale_360: 6) Rexnord Bearings is set ...</td>\n",
       "      <td>[]</td>\n",
       "      <td>FairyTale_360</td>\n",
       "      <td>RightTroll</td>\n",
       "      <td>1663.0</td>\n",
       "      <td>United States</td>\n",
       "      <td>English</td>\n",
       "    </tr>\n",
       "    <tr>\n",
       "      <th>154796</th>\n",
       "      <td>patriotblake</td>\n",
       "      <td>06/02/2017 12:36</td>\n",
       "      <td>RT @bfraser747: 💥💥 #PresidentElectTrump \\r\\n\\r...</td>\n",
       "      <td>[]</td>\n",
       "      <td>bfraser747</td>\n",
       "      <td>RightTroll</td>\n",
       "      <td>2190.0</td>\n",
       "      <td>United States</td>\n",
       "      <td>French</td>\n",
       "    </tr>\n",
       "    <tr>\n",
       "      <th>154797</th>\n",
       "      <td>sternandreas404</td>\n",
       "      <td>07/07/2017 08:46</td>\n",
       "      <td>RT @Lohrheidestar: Der \"Lila Finger\" ist immer...</td>\n",
       "      <td>[\"G20HH17\"]</td>\n",
       "      <td>Lohrheidestar</td>\n",
       "      <td>NonEnglish</td>\n",
       "      <td>100.0</td>\n",
       "      <td>Spain</td>\n",
       "      <td>German</td>\n",
       "    </tr>\n",
       "  </tbody>\n",
       "</table>\n",
       "<p>154798 rows × 9 columns</p>\n",
       "</div>"
      ],
      "text/plain": [
       "                 Source       created_str  \\\n",
       "0        traceyhappymom  15/08/2016 14:50   \n",
       "1         evewebster373  30/06/2015 21:56   \n",
       "2       jacquelinisbest  18/09/2016 19:46   \n",
       "3        judelambertusa  07/04/2016 11:37   \n",
       "4       carriethornthon  10/10/2016 21:04   \n",
       "...                 ...               ...   \n",
       "154793        rh0lbr00k  17/09/2016 21:46   \n",
       "154794     malloryjared  19/07/2016 14:49   \n",
       "154795       cookncooks  03/12/2016 03:16   \n",
       "154796     patriotblake  06/02/2017 12:36   \n",
       "154797  sternandreas404  07/07/2017 08:46   \n",
       "\n",
       "                                                     text           hashtags  \\\n",
       "0       RT @mc_derpin: #TheOlderWeGet the more pessimi...  [\"TheOlderWeGet\"]   \n",
       "1       RT @dmataconis: Ready To Feel Like A Failure? ...                 []   \n",
       "2       RT @NahBabyNah: Twitchy: Chuck Todd caught out...  [\"WakeUpAmerica\"]   \n",
       "3       RT @mcicero10: #BernieSanders #Trump people sh...  [\"BernieSanders\"]   \n",
       "4       RT @ItsJustJaynie: @HillaryClinton The undecid...                 []   \n",
       "...                                                   ...                ...   \n",
       "154793  RT @eavesdropann: 😂😂😂😳😂😂😂😂 https://t.co/gI6uth...                 []   \n",
       "154794  RT @USATODAY: This $700 Asus beats a $1,300 Ma...                 []   \n",
       "154795  RT @FairyTale_360: 6) Rexnord Bearings is set ...                 []   \n",
       "154796  RT @bfraser747: 💥💥 #PresidentElectTrump \\r\\n\\r...                 []   \n",
       "154797  RT @Lohrheidestar: Der \"Lila Finger\" ist immer...        [\"G20HH17\"]   \n",
       "\n",
       "               Target account_category  followers         region language  \n",
       "0           mc_derpin     HashtagGamer     5168.0  United States  English  \n",
       "1          dmataconis       RightTroll      732.0  United States  English  \n",
       "2          NahBabyNah       RightTroll     2166.0  United States  English  \n",
       "3           mcicero10       RightTroll     1833.0  United States  English  \n",
       "4       ItsJustJaynie       RightTroll     2388.0  United States  English  \n",
       "...               ...              ...        ...            ...      ...  \n",
       "154793   eavesdropann       RightTroll     2020.0  United States  English  \n",
       "154794       USATODAY        LeftTroll      845.0  United States  English  \n",
       "154795  FairyTale_360       RightTroll     1663.0  United States  English  \n",
       "154796     bfraser747       RightTroll     2190.0  United States   French  \n",
       "154797  Lohrheidestar       NonEnglish      100.0          Spain   German  \n",
       "\n",
       "[154798 rows x 9 columns]"
      ]
     },
     "execution_count": 98,
     "metadata": {},
     "output_type": "execute_result"
    }
   ],
   "source": [
    "IRA"
   ]
  },
  {
   "cell_type": "code",
   "execution_count": 7,
   "id": "d3562e94",
   "metadata": {},
   "outputs": [],
   "source": [
    "#create network and edge list for the network of the IRA nbc dataset\n",
    "import networkx as nx\n",
    "\n",
    "G_IRA = nx.from_pandas_edgelist(IRA, source='Source', target='Target',\n",
    "                                     edge_attr=['created_str', 'account_category', 'language', \"region\"],\n",
    "                                        create_using=nx.DiGraph())"
   ]
  },
  {
   "cell_type": "code",
   "execution_count": 9,
   "id": "0a523bb7",
   "metadata": {},
   "outputs": [],
   "source": [
    "#select node attributes\n",
    "src_attributes = ['followers', 'region', 'language', 'account_category']\n",
    "\n",
    "# Iterate over df rows and set source node attributes:\n",
    "for index, row in IRA.iterrows():\n",
    "    src_attr_dict = {k: row.to_dict()[k] for k in src_attributes}    \n",
    "    G_IRA.nodes[row['Source']].update(src_attr_dict)"
   ]
  },
  {
   "cell_type": "code",
   "execution_count": 10,
   "id": "c662a73d",
   "metadata": {},
   "outputs": [],
   "source": [
    "nx.write_gexf(G_IRA , \"nbc_IRA.gexf\" )"
   ]
  },
  {
   "cell_type": "code",
   "execution_count": null,
   "id": "a7ddb371",
   "metadata": {},
   "outputs": [],
   "source": []
  }
 ],
 "metadata": {
  "interpreter": {
   "hash": "7d723804476022a3a28877642fe5e9b9a442e47b12722b1b8e48fcdc2e107d84"
  },
  "kernelspec": {
   "display_name": "Python 3.8.12 ('datavis')",
   "language": "python",
   "name": "python3"
  },
  "language_info": {
   "codemirror_mode": {
    "name": "ipython",
    "version": 3
   },
   "file_extension": ".py",
   "mimetype": "text/x-python",
   "name": "python",
   "nbconvert_exporter": "python",
   "pygments_lexer": "ipython3",
   "version": "3.8.12"
  }
 },
 "nbformat": 4,
 "nbformat_minor": 5
}
